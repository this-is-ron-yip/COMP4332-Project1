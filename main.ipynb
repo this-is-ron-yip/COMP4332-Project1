{
 "cells": [
  {
   "cell_type": "code",
   "execution_count": 1,
   "metadata": {},
   "outputs": [],
   "source": [
    "import pandas as pd\n",
    "import json"
   ]
  },
  {
   "cell_type": "code",
   "execution_count": 2,
   "metadata": {},
   "outputs": [],
   "source": [
    "with open(\"data/product.json\", \"r\") as file:\n",
    "    raw_datas = json.load(file)\n",
    "datas = pd.json_normalize(raw_datas)\n",
    "\n",
    "review = pd.read_csv('data/review.csv', index_col=0)\n",
    "prediction = pd.read_csv('data/prediction.csv', index_col=0)\n",
    "validation = pd.read_csv('data/validation.csv', index_col=0)"
   ]
  },
  {
   "cell_type": "code",
   "execution_count": 3,
   "metadata": {},
   "outputs": [
    {
     "data": {
      "text/plain": [
       "{'category': ['Kindle Store', 'Kindle eBooks', 'Biographies & Memoirs'],\n",
       " 'tech1': '',\n",
       " 'description': [],\n",
       " 'fit': '',\n",
       " 'title': '',\n",
       " 'tech2': '',\n",
       " 'brand': \"Visit Amazon's Frank W. Abagnale Page\",\n",
       " 'feature': [],\n",
       " 'rank': '59,404 Paid in Kindle Store (',\n",
       " 'details': {'File Size:': '1466 KB',\n",
       "  'Print Length:': '304 pages',\n",
       "  'Page Numbers Source ISBN:': '076791435X',\n",
       "  'Publisher:': 'Broadway Books (November 19, 2002)',\n",
       "  'Publication Date:': 'November 19, 2002',\n",
       "  'Language:': 'English',\n",
       "  'ASIN:': 'B000FBFMHU',\n",
       "  'Word Wise:': 'Enabled',\n",
       "  'Lending:': 'Enabled'},\n",
       " 'main_cat': 'Buy a Kindle',\n",
       " 'similar_item': '',\n",
       " 'date': '',\n",
       " 'price': '',\n",
       " 'imageURL': [],\n",
       " 'imageURLHighRes': [],\n",
       " 'ProductID': 'B000FBFMHU'}"
      ]
     },
     "execution_count": 3,
     "metadata": {},
     "output_type": "execute_result"
    }
   ],
   "source": [
    "raw_datas[0]"
   ]
  },
  {
   "cell_type": "code",
   "execution_count": 4,
   "metadata": {},
   "outputs": [
    {
     "data": {
      "text/plain": [
       "category                              [Kindle Store, Kindle eBooks, Biographies & Me...\n",
       "tech1                                                                                  \n",
       "description                                                                          []\n",
       "fit                                                                                    \n",
       "title                                                                                  \n",
       "tech2                                                                                  \n",
       "brand                                             Visit Amazon's Frank W. Abagnale Page\n",
       "feature                                                                              []\n",
       "rank                                                      59,404 Paid in Kindle Store (\n",
       "main_cat                                                                   Buy a Kindle\n",
       "similar_item                                                                           \n",
       "date                                                                                   \n",
       "price                                                                                  \n",
       "imageURL                                                                             []\n",
       "imageURLHighRes                                                                      []\n",
       "ProductID                                                                    B000FBFMHU\n",
       "details.File Size:                                                              1466 KB\n",
       "details.Print Length:                                                         304 pages\n",
       "details.Page Numbers Source ISBN:                                            076791435X\n",
       "details.Publisher:                                   Broadway Books (November 19, 2002)\n",
       "details.Publication Date:                                             November 19, 2002\n",
       "details.Language:                                                               English\n",
       "details.ASIN:                                                                B000FBFMHU\n",
       "details.Word Wise:                                                              Enabled\n",
       "details.Lending:                                                                Enabled\n",
       "details.Simultaneous Device Usage:                                                  NaN\n",
       "details.Release Date:                                                               NaN\n",
       "details.ISBN-10:                                                                    NaN\n",
       "details.ISBN-13:                                                                    NaN\n",
       "Name: 0, dtype: object"
      ]
     },
     "execution_count": 4,
     "metadata": {},
     "output_type": "execute_result"
    }
   ],
   "source": [
    "datas.iloc[0]"
   ]
  },
  {
   "cell_type": "code",
   "execution_count": 5,
   "metadata": {},
   "outputs": [
    {
     "data": {
      "text/html": [
       "<div>\n",
       "<style scoped>\n",
       "    .dataframe tbody tr th:only-of-type {\n",
       "        vertical-align: middle;\n",
       "    }\n",
       "\n",
       "    .dataframe tbody tr th {\n",
       "        vertical-align: top;\n",
       "    }\n",
       "\n",
       "    .dataframe thead th {\n",
       "        text-align: right;\n",
       "    }\n",
       "</style>\n",
       "<table border=\"1\" class=\"dataframe\">\n",
       "  <thead>\n",
       "    <tr style=\"text-align: right;\">\n",
       "      <th></th>\n",
       "      <th>ProductID</th>\n",
       "      <th>Text</th>\n",
       "      <th>Summary</th>\n",
       "      <th>Star</th>\n",
       "    </tr>\n",
       "    <tr>\n",
       "      <th>ReviewerID</th>\n",
       "      <th></th>\n",
       "      <th></th>\n",
       "      <th></th>\n",
       "      <th></th>\n",
       "    </tr>\n",
       "  </thead>\n",
       "  <tbody>\n",
       "    <tr>\n",
       "      <th>A1XJXYKOWCH9XT</th>\n",
       "      <td>B000FBFMHU</td>\n",
       "      <td>Liked the movie. Loved the book. It really giv...</td>\n",
       "      <td>Liked the movie. Loved the book!</td>\n",
       "      <td>5.0</td>\n",
       "    </tr>\n",
       "    <tr>\n",
       "      <th>A1K4S4MWXI9E9M</th>\n",
       "      <td>B000FC27TA</td>\n",
       "      <td>Purchased more out of curiosity than any real ...</td>\n",
       "      <td>Not my favorite, but...</td>\n",
       "      <td>3.0</td>\n",
       "    </tr>\n",
       "    <tr>\n",
       "      <th>A3LF914GG87TWP</th>\n",
       "      <td>B000FC27TA</td>\n",
       "      <td>I actually received this text as an ebook, sin...</td>\n",
       "      <td>An interesting read</td>\n",
       "      <td>4.0</td>\n",
       "    </tr>\n",
       "    <tr>\n",
       "      <th>A1CNQTCRQ35IMM</th>\n",
       "      <td>B000FCKPG2</td>\n",
       "      <td>REVIEWER'S OPINION:\\nThis was labeled as roman...</td>\n",
       "      <td>This was labeled romance but there was less ro...</td>\n",
       "      <td>2.0</td>\n",
       "    </tr>\n",
       "    <tr>\n",
       "      <th>AU510CVD9XDG</th>\n",
       "      <td>B000GCFWXW</td>\n",
       "      <td>I have been saving the Argeneau novels for awh...</td>\n",
       "      <td>Science Fiction not Paranormal Romance</td>\n",
       "      <td>2.0</td>\n",
       "    </tr>\n",
       "  </tbody>\n",
       "</table>\n",
       "</div>"
      ],
      "text/plain": [
       "                 ProductID                                               Text  \\\n",
       "ReviewerID                                                                      \n",
       "A1XJXYKOWCH9XT  B000FBFMHU  Liked the movie. Loved the book. It really giv...   \n",
       "A1K4S4MWXI9E9M  B000FC27TA  Purchased more out of curiosity than any real ...   \n",
       "A3LF914GG87TWP  B000FC27TA  I actually received this text as an ebook, sin...   \n",
       "A1CNQTCRQ35IMM  B000FCKPG2  REVIEWER'S OPINION:\\nThis was labeled as roman...   \n",
       "AU510CVD9XDG    B000GCFWXW  I have been saving the Argeneau novels for awh...   \n",
       "\n",
       "                                                          Summary  Star  \n",
       "ReviewerID                                                               \n",
       "A1XJXYKOWCH9XT                   Liked the movie. Loved the book!   5.0  \n",
       "A1K4S4MWXI9E9M                            Not my favorite, but...   3.0  \n",
       "A3LF914GG87TWP                                An interesting read   4.0  \n",
       "A1CNQTCRQ35IMM  This was labeled romance but there was less ro...   2.0  \n",
       "AU510CVD9XDG               Science Fiction not Paranormal Romance   2.0  "
      ]
     },
     "execution_count": 5,
     "metadata": {},
     "output_type": "execute_result"
    }
   ],
   "source": [
    "review.head()"
   ]
  },
  {
   "cell_type": "code",
   "execution_count": 6,
   "metadata": {},
   "outputs": [
    {
     "data": {
      "text/html": [
       "<div>\n",
       "<style scoped>\n",
       "    .dataframe tbody tr th:only-of-type {\n",
       "        vertical-align: middle;\n",
       "    }\n",
       "\n",
       "    .dataframe tbody tr th {\n",
       "        vertical-align: top;\n",
       "    }\n",
       "\n",
       "    .dataframe thead th {\n",
       "        text-align: right;\n",
       "    }\n",
       "</style>\n",
       "<table border=\"1\" class=\"dataframe\">\n",
       "  <thead>\n",
       "    <tr style=\"text-align: right;\">\n",
       "      <th></th>\n",
       "      <th>ProductID</th>\n",
       "      <th>Star</th>\n",
       "    </tr>\n",
       "    <tr>\n",
       "      <th>ReviewerID</th>\n",
       "      <th></th>\n",
       "      <th></th>\n",
       "    </tr>\n",
       "  </thead>\n",
       "  <tbody>\n",
       "    <tr>\n",
       "      <th>A2MK1L1Y74WTWH</th>\n",
       "      <td>B01GT5XDFS</td>\n",
       "      <td>0</td>\n",
       "    </tr>\n",
       "    <tr>\n",
       "      <th>A19I68RW4PBT29</th>\n",
       "      <td>B00OME9OQQ</td>\n",
       "      <td>0</td>\n",
       "    </tr>\n",
       "    <tr>\n",
       "      <th>A1UPHTDW5GM12T</th>\n",
       "      <td>B01GSRNLOK</td>\n",
       "      <td>0</td>\n",
       "    </tr>\n",
       "    <tr>\n",
       "      <th>A1LFIFPYMOJ8RV</th>\n",
       "      <td>B01CUJYMR0</td>\n",
       "      <td>0</td>\n",
       "    </tr>\n",
       "    <tr>\n",
       "      <th>A10Y597K071WTQ</th>\n",
       "      <td>B004SI455Q</td>\n",
       "      <td>0</td>\n",
       "    </tr>\n",
       "  </tbody>\n",
       "</table>\n",
       "</div>"
      ],
      "text/plain": [
       "                 ProductID  Star\n",
       "ReviewerID                      \n",
       "A2MK1L1Y74WTWH  B01GT5XDFS     0\n",
       "A19I68RW4PBT29  B00OME9OQQ     0\n",
       "A1UPHTDW5GM12T  B01GSRNLOK     0\n",
       "A1LFIFPYMOJ8RV  B01CUJYMR0     0\n",
       "A10Y597K071WTQ  B004SI455Q     0"
      ]
     },
     "execution_count": 6,
     "metadata": {},
     "output_type": "execute_result"
    }
   ],
   "source": [
    "prediction.head()"
   ]
  },
  {
   "cell_type": "code",
   "execution_count": 7,
   "metadata": {},
   "outputs": [
    {
     "data": {
      "text/html": [
       "<div>\n",
       "<style scoped>\n",
       "    .dataframe tbody tr th:only-of-type {\n",
       "        vertical-align: middle;\n",
       "    }\n",
       "\n",
       "    .dataframe tbody tr th {\n",
       "        vertical-align: top;\n",
       "    }\n",
       "\n",
       "    .dataframe thead th {\n",
       "        text-align: right;\n",
       "    }\n",
       "</style>\n",
       "<table border=\"1\" class=\"dataframe\">\n",
       "  <thead>\n",
       "    <tr style=\"text-align: right;\">\n",
       "      <th></th>\n",
       "      <th>ProductID</th>\n",
       "      <th>Star</th>\n",
       "    </tr>\n",
       "    <tr>\n",
       "      <th>ReviewerID</th>\n",
       "      <th></th>\n",
       "      <th></th>\n",
       "    </tr>\n",
       "  </thead>\n",
       "  <tbody>\n",
       "    <tr>\n",
       "      <th>A25X28UZCW2J6G</th>\n",
       "      <td>B00K9V6B94</td>\n",
       "      <td>4.0</td>\n",
       "    </tr>\n",
       "    <tr>\n",
       "      <th>A1FUH1O6FCTUYG</th>\n",
       "      <td>B00GZANS6M</td>\n",
       "      <td>5.0</td>\n",
       "    </tr>\n",
       "    <tr>\n",
       "      <th>AAUVEEG5YLZAX</th>\n",
       "      <td>B01864DDVO</td>\n",
       "      <td>5.0</td>\n",
       "    </tr>\n",
       "    <tr>\n",
       "      <th>A3VQLGTYTL5196</th>\n",
       "      <td>B001BXNQ2O</td>\n",
       "      <td>5.0</td>\n",
       "    </tr>\n",
       "    <tr>\n",
       "      <th>A10JAUCIGVRW9F</th>\n",
       "      <td>B0116MZUS2</td>\n",
       "      <td>5.0</td>\n",
       "    </tr>\n",
       "  </tbody>\n",
       "</table>\n",
       "</div>"
      ],
      "text/plain": [
       "                 ProductID  Star\n",
       "ReviewerID                      \n",
       "A25X28UZCW2J6G  B00K9V6B94   4.0\n",
       "A1FUH1O6FCTUYG  B00GZANS6M   5.0\n",
       "AAUVEEG5YLZAX   B01864DDVO   5.0\n",
       "A3VQLGTYTL5196  B001BXNQ2O   5.0\n",
       "A10JAUCIGVRW9F  B0116MZUS2   5.0"
      ]
     },
     "execution_count": 7,
     "metadata": {},
     "output_type": "execute_result"
    }
   ],
   "source": [
    "validation.head()"
   ]
  }
 ],
 "metadata": {
  "kernelspec": {
   "display_name": ".venv",
   "language": "python",
   "name": "python3"
  },
  "language_info": {
   "codemirror_mode": {
    "name": "ipython",
    "version": 3
   },
   "file_extension": ".py",
   "mimetype": "text/x-python",
   "name": "python",
   "nbconvert_exporter": "python",
   "pygments_lexer": "ipython3",
   "version": "3.12.4"
  }
 },
 "nbformat": 4,
 "nbformat_minor": 2
}
